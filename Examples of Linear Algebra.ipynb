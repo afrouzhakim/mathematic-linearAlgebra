{
 "cells": [
  {
   "cell_type": "code",
   "execution_count": 3,
   "id": "056dafdb",
   "metadata": {},
   "outputs": [],
   "source": [
    "%config Completer.use_jedi = False"
   ]
  },
  {
   "cell_type": "code",
   "execution_count": 1,
   "id": "98d134cd",
   "metadata": {},
   "outputs": [],
   "source": [
    "import numpy as np"
   ]
  },
  {
   "cell_type": "code",
   "execution_count": 177,
   "id": "43ff46de",
   "metadata": {},
   "outputs": [
    {
     "data": {
      "text/plain": [
       "7.0"
      ]
     },
     "execution_count": 177,
     "metadata": {},
     "output_type": "execute_result"
    }
   ],
   "source": [
    "# polynomial function /regression problem\n",
    "# f([x1, x2, ..., xn]) = w0 + w1.x1 + w2.x2 + .... wn.xn = y\n",
    "\n",
    "# f(x1) = w0 + w1.x1 = y1\n",
    "# f(x2) = w0 + w2.x2 = y2\n",
    "# ...\n",
    "# f(xn) = w0 + wn.xn = yn\n",
    "\n",
    "w0 = 3\n",
    "x = np.array([1, 2, 3, 4])\n",
    "w = np.array([1, 1/2, 1/3, 1/4])\n",
    "\n",
    "np.dot(x,w)+w0"
   ]
  },
  {
   "cell_type": "code",
   "execution_count": 193,
   "id": "932c8394",
   "metadata": {},
   "outputs": [
    {
     "data": {
      "text/plain": [
       "56"
      ]
     },
     "execution_count": 193,
     "metadata": {},
     "output_type": "execute_result"
    }
   ],
   "source": [
    "# Inner Product\n",
    "a = np.array([2,3,4])\n",
    "b = np.array([5,6,7])\n",
    "\n",
    "np.inner(a, b)"
   ]
  },
  {
   "cell_type": "code",
   "execution_count": 191,
   "id": "fc2c9240",
   "metadata": {},
   "outputs": [
    {
     "data": {
      "text/plain": [
       "56"
      ]
     },
     "execution_count": 191,
     "metadata": {},
     "output_type": "execute_result"
    }
   ],
   "source": [
    "# dot Product\n",
    "a = np.array([2,3,4])\n",
    "b = np.array([5,6,7])\n",
    "np.dot(a, b)"
   ]
  },
  {
   "cell_type": "code",
   "execution_count": 185,
   "id": "44f633d3",
   "metadata": {},
   "outputs": [
    {
     "data": {
      "text/plain": [
       "array([-3,  6, -3])"
      ]
     },
     "execution_count": 185,
     "metadata": {},
     "output_type": "execute_result"
    }
   ],
   "source": [
    "# Cross Product\n",
    "a = np.array([2,3,4])\n",
    "b = np.array([5,6,7])\n",
    "np.cross(a, b)"
   ]
  },
  {
   "cell_type": "code",
   "execution_count": 188,
   "id": "5ee36c00",
   "metadata": {},
   "outputs": [
    {
     "name": "stdout",
     "output_type": "stream",
     "text": [
      "[[1 2 1]\n",
      " [4 4 5]\n",
      " [6 7 7]]\n",
      "[[-7. -7.  6.]\n",
      " [ 2.  1. -1.]\n",
      " [ 4.  5. -4.]]\n",
      "[[ -7. -14.   6.]\n",
      " [  8.   4.  -5.]\n",
      " [ 24.  35. -28.]]\n",
      "[[ 1.00000000e+00 -1.77635684e-15  8.88178420e-16]\n",
      " [-2.22044605e-15  1.00000000e+00  4.44089210e-15]\n",
      " [ 7.54951657e-15 -1.77635684e-15  1.00000000e+00]]\n",
      "[[ 1.00000000e+00 -1.77635684e-15  8.88178420e-16]\n",
      " [-2.22044605e-15  1.00000000e+00  4.44089210e-15]\n",
      " [ 7.54951657e-15 -1.77635684e-15  1.00000000e+00]]\n",
      "[[ 1. -0.  0.]\n",
      " [-0.  1.  0.]\n",
      " [ 0. -0.  1.]]\n"
     ]
    }
   ],
   "source": [
    "A = np.array([[1, 2, 1],\n",
    "             [4, 4, 5],\n",
    "             [6, 7, 7]])\n",
    "\n",
    "B = np.linalg.inv(A)\n",
    "\n",
    "print(A)\n",
    "print(B)\n",
    "\n",
    "print(A*B)\n",
    "\n",
    "print(A.dot(B))\n",
    "print(np.dot(A, B))\n",
    "\n",
    "I = np.around(A @ B, 2)\n",
    "print(I)"
   ]
  },
  {
   "cell_type": "markdown",
   "id": "665386f8",
   "metadata": {},
   "source": [
    "### Normal Eauation Model\n",
    "$$\n",
    "w = (X^{T}X)^{-1} X^{T} y\n",
    "$$"
   ]
  },
  {
   "cell_type": "code",
   "execution_count": 172,
   "id": "160bd3bf",
   "metadata": {
    "scrolled": true
   },
   "outputs": [
    {
     "name": "stdout",
     "output_type": "stream",
     "text": [
      "w0= 205515.49 , w1= 70.4 , w2= 510.62 , w3= 45289.22\n"
     ]
    }
   ],
   "source": [
    "# f([x1, x2, ..., xn]) = w0 + w1.x1 + w2.x2 + .... wn.xn = y\n",
    "\n",
    "# y = f(x) = w0 + wx\n",
    "# y = f(x, y) = w0 + w1.x + w2y\n",
    "# y = f(x, y, z) = w0 + w1.x + w2.y + w2.z\n",
    "\n",
    "# Define the input features and output values\n",
    "X = np.array([[1400, 50, 1], [1600, 20, 0], [1700, 60, 1], [1875, 35, 0], [1100, 70, 0], [1550, 80, 1]])\n",
    "y = np.array([[245000], [312000], [279000], [308000], [199000], [219000]])\n",
    "\n",
    "# Add a column of w0 to represent the bias term\n",
    "X_b = np.c_[np.random.rand(X.shape[0]), X]\n",
    "\n",
    "# Compute the optimal parameters using the normal equation\n",
    "w = np.around(np.linalg.inv(np.dot(X_b.transpose(), X_b)).dot(X_b.T).dot(y), 2)\n",
    "\n",
    "# Print the optimal parameters\n",
    "print('w0=',w[0][0], ', w1=',w[1][0], ', w2=',w[2][0], ', w3=',w[3][0])\n",
    "\n",
    "# y = f(surface, distance, balcon) = w0 + w1.surfcace + w2.distance + w3.balcon"
   ]
  },
  {
   "cell_type": "code",
   "execution_count": 173,
   "id": "2fd3e1dc",
   "metadata": {},
   "outputs": [
    {
     "data": {
      "text/plain": [
       "array([374895.71])"
      ]
     },
     "execution_count": 173,
     "metadata": {},
     "output_type": "execute_result"
    }
   ],
   "source": [
    "Y = lambda surface, distance, balcon: w[0] + w[1]*surface + w[2]*distance + w[3]*balcon\n",
    "\n",
    "Y(1400, 50, 1)"
   ]
  },
  {
   "cell_type": "markdown",
   "id": "dc017c8e",
   "metadata": {},
   "source": [
    "### L-Norm\n",
    "$$\n",
    "\\left(\\begin{array}{cc} \n",
    "x_{1}\\\\\n",
    "x_{2}\\\\\n",
    ".\\\\\n",
    ".\\\\\n",
    ".\\\\\n",
    "x_{n}\\\\\n",
    "\\end{array}\\right)\n",
    ", |X|_{p} = (\\Sigma_{i} |X_{i}|^p)^1/p\n",
    "$$"
   ]
  },
  {
   "cell_type": "code",
   "execution_count": 83,
   "id": "5b15f700",
   "metadata": {},
   "outputs": [
    {
     "name": "stdout",
     "output_type": "stream",
     "text": [
      "L1-norm similarity: 6\n",
      "L1-norm similarity: 2\n"
     ]
    }
   ],
   "source": [
    "# Define two vectors\n",
    "O1 = np.array([1400, 50, 1, 5, 9, 8])\n",
    "O2 = np.array([1400, 50, 1, 7, 5, 8])\n",
    "O3 = np.array([1400, 50, 1, 5, 9, 6])\n",
    "\n",
    "# Compute the L1-norm (Manhattan distance) between the two vectors\n",
    "L1_norm = np.sum(np.abs(O1 - O2))\n",
    "print(\"L1-norm similarity:\", L1_norm)\n",
    "\n",
    "L1_norm = np.sum(np.abs(O1 - O3))\n",
    "print(\"L1-norm similarity:\", L1_norm)"
   ]
  },
  {
   "cell_type": "code",
   "execution_count": 108,
   "id": "bcf30551",
   "metadata": {},
   "outputs": [
    {
     "name": "stdout",
     "output_type": "stream",
     "text": [
      "L2-norm similarity: 2.0\n",
      "Vector A and B are similar\n"
     ]
    }
   ],
   "source": [
    "# Compute the L2-norm (Euclidean distance) between the two vectors\n",
    "L2_norm = np.sqrt(np.sum((O1 - O3)**2))\n",
    "print(\"L2-norm similarity:\", L2_norm)\n",
    "Threshold = 2\n",
    "\n",
    "if L2_norm <= Threshold:\n",
    "    print('Vector A and B are similar')\n",
    "else:\n",
    "    print('Vector A and B not are similar')"
   ]
  },
  {
   "cell_type": "code",
   "execution_count": 87,
   "id": "55adea5f",
   "metadata": {},
   "outputs": [
    {
     "name": "stdout",
     "output_type": "stream",
     "text": [
      "Linf-norm similarity: 2\n"
     ]
    }
   ],
   "source": [
    "# Compute the Linf-norm (Chebyshev distance) between the two vectors\n",
    "Linf_norm = np.max(np.abs(O1 - O3))\n",
    "print(\"Linf-norm similarity:\", Linf_norm)\n",
    "# Output: Linf-norm similarity: 1"
   ]
  },
  {
   "cell_type": "markdown",
   "id": "54b56dd5",
   "metadata": {},
   "source": [
    "#### The higher the L1 the lower the similarity"
   ]
  },
  {
   "cell_type": "markdown",
   "id": "b434316d",
   "metadata": {},
   "source": [
    "### Cosine Similarity \n",
    "$$\n",
    "\\cos (\\theta ) =   \\dfrac {A \\cdot B} {\\left\\| A\\right\\| _{2}\\left\\| B\\right\\| _{2}} \n",
    "$$"
   ]
  },
  {
   "cell_type": "code",
   "execution_count": null,
   "id": "27dbe942",
   "metadata": {},
   "outputs": [],
   "source": [
    "from numpy.linalg import norm\n",
    "A = np.array([10, 20, 1, 50, 0, 80])\n",
    "B = np.array([1200, 60, 3, 7, 4, 3])\n",
    "Threshold = 0.5\n",
    "\n",
    "cosine = np.dot(A,B)/(norm(A)*norm(B))\n",
    "print(\"Cosine Similarity:\", round(cosine, 2))\n",
    "\n",
    "if cosine >= Threshold:\n",
    "    print('Vector A and B are similar')\n",
    "else:\n",
    "    print('Vector A and B not are similar')"
   ]
  },
  {
   "cell_type": "code",
   "execution_count": 140,
   "id": "c8704433",
   "metadata": {},
   "outputs": [
    {
     "name": "stdout",
     "output_type": "stream",
     "text": [
      "Cosines Similarity scores: [ 0.96  0.83 -0.31]\n"
     ]
    },
    {
     "data": {
      "text/plain": [
       "(0, 'dog')"
      ]
     },
     "execution_count": 140,
     "metadata": {},
     "output_type": "execute_result"
    }
   ],
   "source": [
    "# Label Based Model\n",
    "labels = {0:'dog', 1:'cat', 2:'cat'}\n",
    "\n",
    "Objects = np.array([[2,1,2],# dog\n",
    "                    [3,2,9], # cat\n",
    "                    [-1,2,-3]# cat\n",
    "                   ])\n",
    "\n",
    "NewObj = np.array([3,4,2])# is this a dog or a cat\n",
    "NewObj = np.array([1,1,1])\n",
    "\n",
    "cosines = np.around(np.dot(Objects, NewObj)/(norm(Objects, axis=1)*norm(NewObj)), 2)\n",
    "print(\"Cosines Similarity scores:\", cosines)\n",
    "\n",
    "np.argmax(cosines), labels[np.argmax(cosines)]"
   ]
  },
  {
   "cell_type": "code",
   "execution_count": 176,
   "id": "eb664217",
   "metadata": {},
   "outputs": [
    {
     "name": "stdout",
     "output_type": "stream",
     "text": [
      "Cosines Similarity scores: [ 0.96  0.83 -0.31]\n",
      "dog\n"
     ]
    }
   ],
   "source": [
    "# Threshold Based model\n",
    "Objects = np.array([[2,1,2],# dog\n",
    "                    [3,2,9], # cat\n",
    "                    [-1,2,-3]# cat\n",
    "                   ])\n",
    "\n",
    "NewObj = np.array([3,4,2])# is this a dog or a cat\n",
    "NewObj = np.array([1,1,1])\n",
    "\n",
    "cosines = np.around(np.dot(Objects, NewObj)/(norm(Objects, axis=1)*norm(NewObj)), 2)\n",
    "print(\"Cosines Similarity scores:\", cosines)\n",
    "\n",
    "Threshold = 0.8\n",
    "\n",
    "if np.max(cosines) >= Threshold:\n",
    "    print('dog')\n",
    "else:\n",
    "    print('cat')"
   ]
  },
  {
   "cell_type": "markdown",
   "id": "8095779f",
   "metadata": {},
   "source": [
    "#### The higher the Cosine Score the higher the similarity"
   ]
  }
 ],
 "metadata": {
  "kernelspec": {
   "display_name": "Python 3 (ipykernel)",
   "language": "python",
   "name": "python3"
  },
  "language_info": {
   "codemirror_mode": {
    "name": "ipython",
    "version": 3
   },
   "file_extension": ".py",
   "mimetype": "text/x-python",
   "name": "python",
   "nbconvert_exporter": "python",
   "pygments_lexer": "ipython3",
   "version": "3.11.1"
  }
 },
 "nbformat": 4,
 "nbformat_minor": 5
}
